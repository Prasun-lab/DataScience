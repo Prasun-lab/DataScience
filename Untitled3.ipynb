{
  "nbformat": 4,
  "nbformat_minor": 0,
  "metadata": {
    "colab": {
      "provenance": [],
      "authorship_tag": "ABX9TyPdYP5dnl36+d+DmZbI5ZVH",
      "include_colab_link": true
    },
    "kernelspec": {
      "name": "python3",
      "display_name": "Python 3"
    },
    "language_info": {
      "name": "python"
    }
  },
  "cells": [
    {
      "cell_type": "markdown",
      "metadata": {
        "id": "view-in-github",
        "colab_type": "text"
      },
      "source": [
        "<a href=\"https://colab.research.google.com/github/Prasun-lab/DataScience/blob/main/Untitled3.ipynb\" target=\"_parent\"><img src=\"https://colab.research.google.com/assets/colab-badge.svg\" alt=\"Open In Colab\"/></a>"
      ]
    },
    {
      "cell_type": "code",
      "execution_count": null,
      "metadata": {
        "colab": {
          "base_uri": "https://localhost:8080/"
        },
        "id": "ZZoJB22_Xzu5",
        "outputId": "3c32d24d-0691-4d5e-e8e3-1243d21223e4"
      },
      "outputs": [
        {
          "output_type": "stream",
          "name": "stdout",
          "text": [
            "\n",
            "Student Management System\n",
            "Add Student\n",
            "Remove Student\n",
            "Search Student\n",
            "Update Student Details\n",
            "Exit\n",
            "Enter your choice: 1\n",
            "Enter name: Prasun\n",
            "Enter roll number: 78\n",
            "Enter age: 26\n",
            "Enter marks: 88\n",
            "Student added successfully.\n",
            "\n",
            "Student Management System\n",
            "Add Student\n",
            "Remove Student\n",
            "Search Student\n",
            "Update Student Details\n",
            "Exit\n"
          ]
        }
      ],
      "source": [
        "class Student:\n",
        "    def __init__(self, name, roll_number, age, marks):\n",
        "        self.name = name\n",
        "        self.roll_number = roll_number\n",
        "        self.age = age\n",
        "        self.marks = marks\n",
        "\n",
        "    def __str__(self):\n",
        "        return f\"Name: {self.name}, Roll Number: {self.roll_number}, Age: {self.age}, Marks: {self.marks}\"\n",
        "\n",
        "\n",
        "class StudentManager:\n",
        "    def __init__(self):\n",
        "        self.students = []\n",
        "\n",
        "    def add_student(self, student):\n",
        "        self.students.append(student)\n",
        "        print(\"Student added successfully.\")\n",
        "\n",
        "    def remove_student(self, identifier):\n",
        "        for student in self.students:\n",
        "            if student.roll_number == identifier or student.name == identifier:\n",
        "                self.students.remove(student)\n",
        "                print(\"Student removed successfully.\")\n",
        "                return\n",
        "        print(\"Student not found.\")\n",
        "\n",
        "    def search_student(self, identifier):\n",
        "        for student in self.students:\n",
        "            if student.roll_number == identifier or student.name == identifier:\n",
        "                print(\"Student found:\")\n",
        "                print(student)\n",
        "                return\n",
        "        print(\"Student not found.\")\n",
        "\n",
        "    def update_student(self, identifier, **kwargs):\n",
        "        for student in self.students:\n",
        "            if student.roll_number == identifier or student.name == identifier:\n",
        "                for key, value in kwargs.items():\n",
        "                    setattr(student, key, value)\n",
        "                print(\"Student details updated successfully.\")\n",
        "                return\n",
        "        print(\"Student not found.\")\n",
        "\n",
        "\n",
        "def main():\n",
        "    student_manager = StudentManager()\n",
        "\n",
        "    while True:\n",
        "        print(\"\\nStudent Management System\")\n",
        "        print(\"Add Student\")\n",
        "        print(\"Remove Student\")\n",
        "        print(\"Search Student\")\n",
        "        print(\"Update Student Details\")\n",
        "        print(\"Exit\")\n",
        "\n",
        "        choice = input(\"Enter your choice: \")\n",
        "\n",
        "        if choice == \"1\":\n",
        "            name = input(\"Enter name: \")\n",
        "            roll_number = input(\"Enter roll number: \")\n",
        "            age = input(\"Enter age: \")\n",
        "            marks = input(\"Enter marks: \")\n",
        "            new_student = Student(name, roll_number, age, marks)\n",
        "            student_manager.add_student(new_student)\n",
        "        elif choice == \"2\":\n",
        "            identifier = input(\"Enter roll number or name of student to remove: \")\n",
        "            student_manager.remove_student(identifier)\n",
        "        elif choice == \"3\":\n",
        "            identifier = input(\"Enter roll number or name of student to search: \")\n",
        "            student_manager.search_student(identifier)\n",
        "        elif choice == \"4\":\n",
        "            identifier = input(\"Enter roll number or name of student to update: \")\n",
        "            attribute = input(\"Enter attribute to update (name, roll_number, age, marks): \")\n",
        "            value = input(f\"Enter new value for {attribute}: \")\n",
        "            student_manager.update_student(identifier, **{attribute: value})\n",
        "        elif choice == \"5\":\n",
        "            print(\"Exiting program.\")\n",
        "            break\n",
        "        else:\n",
        "            print(\"Invalid choice. Please choose again.\")\n",
        "\n",
        "\n",
        "if __name__ == \"__main__\":\n",
        "    main()"
      ]
    }
  ]
}